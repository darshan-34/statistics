{
 "cells": [
  {
   "cell_type": "code",
   "execution_count": 1,
   "id": "0ec87153-86de-40ea-8d5c-9d8d1fbea01d",
   "metadata": {},
   "outputs": [],
   "source": [
    "age = [54,23,87,12,98]"
   ]
  },
  {
   "cell_type": "code",
   "execution_count": 11,
   "id": "ce168abd-1fd1-4c9d-9044-818626ddd189",
   "metadata": {},
   "outputs": [
    {
     "name": "stdout",
     "output_type": "stream",
     "text": [
      "54.8\n"
     ]
    }
   ],
   "source": [
    "import numpy as np\n",
    "# mean\n",
    "print(np.mean(age))"
   ]
  },
  {
   "cell_type": "code",
   "execution_count": 12,
   "id": "6a8e8158-9e95-4bb6-a420-15aa6c6a3e71",
   "metadata": {},
   "outputs": [
    {
     "name": "stdout",
     "output_type": "stream",
     "text": [
      "54.0\n"
     ]
    }
   ],
   "source": [
    "# median\n",
    "print(np.median(age))"
   ]
  },
  {
   "cell_type": "code",
   "execution_count": 13,
   "id": "c80bbc0e-74ba-4228-a429-e1a3e30d4a81",
   "metadata": {},
   "outputs": [],
   "source": [
    "age1 = [54,23,87,12,98,291,102,23,12]"
   ]
  },
  {
   "cell_type": "code",
   "execution_count": 14,
   "id": "0c1f2c94-4bd5-41cc-b6e7-054becfa6753",
   "metadata": {},
   "outputs": [
    {
     "name": "stdout",
     "output_type": "stream",
     "text": [
      "Requirement already satisfied: scipy in ./venv/lib/python3.11/site-packages (1.15.2)\n",
      "Requirement already satisfied: numpy<2.5,>=1.23.5 in ./venv/lib/python3.11/site-packages (from scipy) (2.2.3)\n",
      "Note: you may need to restart the kernel to use updated packages.\n"
     ]
    }
   ],
   "source": [
    "pip install scipy"
   ]
  },
  {
   "cell_type": "code",
   "execution_count": 15,
   "id": "deb90d32-1f2f-4d05-b76c-6aeff70c46f3",
   "metadata": {},
   "outputs": [],
   "source": [
    "from scipy import stats"
   ]
  },
  {
   "cell_type": "code",
   "execution_count": 17,
   "id": "7eaa9c2d-99c9-46a6-8f79-0ade7b13365c",
   "metadata": {},
   "outputs": [
    {
     "name": "stdout",
     "output_type": "stream",
     "text": [
      "ModeResult(mode=np.int64(12), count=np.int64(2))\n"
     ]
    }
   ],
   "source": [
    "# mode\n",
    "print(stats.mode(age1))"
   ]
  },
  {
   "cell_type": "code",
   "execution_count": 20,
   "id": "67dd4323-0399-46a6-bc79-50a312aaf18c",
   "metadata": {},
   "outputs": [
    {
     "name": "stdout",
     "output_type": "stream",
     "text": [
      "23\n"
     ]
    }
   ],
   "source": [
    "import statistics\n",
    "# another way of finding mode\n",
    "print(statistics.mode(age1))"
   ]
  },
  {
   "cell_type": "code",
   "execution_count": 25,
   "id": "264cd506-4215-462a-a6f4-f2a0c470553e",
   "metadata": {},
   "outputs": [
    {
     "name": "stdout",
     "output_type": "stream",
     "text": [
      "1995.2\n"
     ]
    }
   ],
   "source": [
    "# mean is affected by outliers >> here 9800 is the outlier\n",
    "age2 = [54,23,87,12,9800]\n",
    "print(np.mean(age))"
   ]
  },
  {
   "cell_type": "code",
   "execution_count": 28,
   "id": "20e44071-6aee-4167-925a-6cab0ae5a860",
   "metadata": {},
   "outputs": [
    {
     "name": "stdout",
     "output_type": "stream",
     "text": [
      "54.0\n"
     ]
    }
   ],
   "source": [
    "# median not affected by outliers\n",
    "print(np.median(age2))"
   ]
  },
  {
   "cell_type": "code",
   "execution_count": null,
   "id": "6843b797-8c34-467c-84cd-761fefc334c1",
   "metadata": {},
   "outputs": [],
   "source": []
  }
 ],
 "metadata": {
  "kernelspec": {
   "display_name": "Python 3 (ipykernel)",
   "language": "python",
   "name": "python3"
  },
  "language_info": {
   "codemirror_mode": {
    "name": "ipython",
    "version": 3
   },
   "file_extension": ".py",
   "mimetype": "text/x-python",
   "name": "python",
   "nbconvert_exporter": "python",
   "pygments_lexer": "ipython3",
   "version": "3.11.2"
  }
 },
 "nbformat": 4,
 "nbformat_minor": 5
}
