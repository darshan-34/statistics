{
 "cells": [
  {
   "cell_type": "code",
   "execution_count": 4,
   "id": "fc27e5f7-d3d4-4486-8871-955f6fe6a67c",
   "metadata": {},
   "outputs": [
    {
     "data": {
      "text/plain": [
       "[2, 3, 4, 5, 6, 8, 9, 13, 29, 40]"
      ]
     },
     "execution_count": 4,
     "metadata": {},
     "output_type": "execute_result"
    }
   ],
   "source": [
    "data = [2,3,4,5,6,8,9,13,29,40]\n",
    "data"
   ]
  },
  {
   "cell_type": "code",
   "execution_count": 5,
   "id": "a218327c-250d-4821-8d34-9d43e1c186cc",
   "metadata": {},
   "outputs": [
    {
     "data": {
      "text/plain": [
       "38"
      ]
     },
     "execution_count": 5,
     "metadata": {},
     "output_type": "execute_result"
    }
   ],
   "source": [
    "# measure of dispersion/spread\n",
    "\n",
    "# 1. range\n",
    "max(data) - min(data)"
   ]
  },
  {
   "cell_type": "code",
   "execution_count": 6,
   "id": "191e7e25-e20b-4839-bfb9-f738cb724551",
   "metadata": {},
   "outputs": [
    {
     "data": {
      "text/plain": [
       "array([ 2.  ,  4.25,  7.  , 12.  , 40.  ])"
      ]
     },
     "execution_count": 6,
     "metadata": {},
     "output_type": "execute_result"
    }
   ],
   "source": [
    "# 2. Percentile\n",
    "import numpy as np\n",
    "prcntil = np.percentile(data, [0,25,50,75,100])\n",
    "prcntil"
   ]
  },
  {
   "cell_type": "code",
   "execution_count": 7,
   "id": "f078cf83-a1d3-4de8-b520-45ed19e4c57f",
   "metadata": {},
   "outputs": [
    {
     "name": "stdout",
     "output_type": "stream",
     "text": [
      "7.75\n"
     ]
    }
   ],
   "source": [
    "# 3. Inter-Quarltile Range >> Q3-Q1\n",
    "print(prcntil[3] - prcntil[1])"
   ]
  },
  {
   "cell_type": "code",
   "execution_count": 8,
   "id": "549fe6a3-357a-4293-8439-ef4191aef892",
   "metadata": {},
   "outputs": [
    {
     "name": "stdout",
     "output_type": "stream",
     "text": [
      "Requirement already satisfied: seaborn in ./venv/lib/python3.11/site-packages (0.13.2)\n",
      "Requirement already satisfied: numpy!=1.24.0,>=1.20 in ./venv/lib/python3.11/site-packages (from seaborn) (2.2.3)\n",
      "Requirement already satisfied: pandas>=1.2 in ./venv/lib/python3.11/site-packages (from seaborn) (2.2.3)\n",
      "Requirement already satisfied: matplotlib!=3.6.1,>=3.4 in ./venv/lib/python3.11/site-packages (from seaborn) (3.10.0)\n",
      "Requirement already satisfied: contourpy>=1.0.1 in ./venv/lib/python3.11/site-packages (from matplotlib!=3.6.1,>=3.4->seaborn) (1.3.1)\n",
      "Requirement already satisfied: cycler>=0.10 in ./venv/lib/python3.11/site-packages (from matplotlib!=3.6.1,>=3.4->seaborn) (0.12.1)\n",
      "Requirement already satisfied: fonttools>=4.22.0 in ./venv/lib/python3.11/site-packages (from matplotlib!=3.6.1,>=3.4->seaborn) (4.56.0)\n",
      "Requirement already satisfied: kiwisolver>=1.3.1 in ./venv/lib/python3.11/site-packages (from matplotlib!=3.6.1,>=3.4->seaborn) (1.4.8)\n",
      "Requirement already satisfied: packaging>=20.0 in ./venv/lib/python3.11/site-packages (from matplotlib!=3.6.1,>=3.4->seaborn) (24.2)\n",
      "Requirement already satisfied: pillow>=8 in ./venv/lib/python3.11/site-packages (from matplotlib!=3.6.1,>=3.4->seaborn) (11.1.0)\n",
      "Requirement already satisfied: pyparsing>=2.3.1 in ./venv/lib/python3.11/site-packages (from matplotlib!=3.6.1,>=3.4->seaborn) (3.2.1)\n",
      "Requirement already satisfied: python-dateutil>=2.7 in ./venv/lib/python3.11/site-packages (from matplotlib!=3.6.1,>=3.4->seaborn) (2.9.0.post0)\n",
      "Requirement already satisfied: pytz>=2020.1 in ./venv/lib/python3.11/site-packages (from pandas>=1.2->seaborn) (2025.1)\n",
      "Requirement already satisfied: tzdata>=2022.7 in ./venv/lib/python3.11/site-packages (from pandas>=1.2->seaborn) (2025.1)\n",
      "Requirement already satisfied: six>=1.5 in ./venv/lib/python3.11/site-packages (from python-dateutil>=2.7->matplotlib!=3.6.1,>=3.4->seaborn) (1.17.0)\n",
      "Note: you may need to restart the kernel to use updated packages.\n"
     ]
    }
   ],
   "source": [
    "pip install seaborn"
   ]
  },
  {
   "cell_type": "code",
   "execution_count": 9,
   "id": "6151bc3c-14c4-43ea-b41e-1f4191932ea4",
   "metadata": {},
   "outputs": [
    {
     "data": {
      "text/plain": [
       "<Axes: >"
      ]
     },
     "execution_count": 9,
     "metadata": {},
     "output_type": "execute_result"
    },
    {
     "data": {
      "image/png": "[encoded data removed]",
      "text/plain": [
       "<Figure size 640x480 with 1 Axes>"
      ]
     },
     "metadata": {},
     "output_type": "display_data"
    }
   ],
   "source": [
    "# 4. box-plot\n",
    "import seaborn as sns\n",
    "sns.boxplot(data)"
   ]
  },
  {
   "cell_type": "code",
   "execution_count": 11,
   "id": "dc7c6c6c-b84b-4c85-8392-49904fecb9f8",
   "metadata": {},
   "outputs": [
    {
     "data": {
      "text/plain": [
       "np.float64(142.89000000000001)"
      ]
     },
     "execution_count": 11,
     "metadata": {},
     "output_type": "execute_result"
    }
   ],
   "source": [
    "# 5. variance\n",
    "np.var(data)"
   ]
  },
  {
   "cell_type": "code",
   "execution_count": 12,
   "id": "b60a759e-105a-4228-8c25-4d0693d62a1a",
   "metadata": {},
   "outputs": [
    {
     "data": {
      "text/plain": [
       "np.float64(11.953660527219267)"
      ]
     },
     "execution_count": 12,
     "metadata": {},
     "output_type": "execute_result"
    }
   ],
   "source": [
    "# 6. standard deviation\n",
    "np.std(data)"
   ]
  },
  {
   "cell_type": "code",
   "execution_count": 15,
   "id": "5b8694bb-923a-4e88-bec0-2c6fe9427a74",
   "metadata": {},
   "outputs": [
    {
     "name": "stdout",
     "output_type": "stream",
     "text": [
      "158.76666666666668\n",
      "142.89\n"
     ]
    }
   ],
   "source": [
    "import statistics\n",
    "print(statistics.variance(data)) # sample variance >> denominator is n-1\n",
    "print(statistics.pvariance(data)) # population variance >> denominator is n"
   ]
  },
  {
   "cell_type": "code",
   "execution_count": 18,
   "id": "b6b0cbfc-faa7-4eac-900e-530278322249",
   "metadata": {},
   "outputs": [
    {
     "data": {
      "text/plain": [
       "np.float64(1.4287379060239564)"
      ]
     },
     "execution_count": 18,
     "metadata": {},
     "output_type": "execute_result"
    }
   ],
   "source": [
    "# measure of symmetricity, skewness\n",
    "# skewness\n",
    "\n",
    "from scipy.stats import skew\n",
    "skew(data)"
   ]
  },
  {
   "cell_type": "code",
   "execution_count": null,
   "id": "bc862ae9-93fa-458a-9676-e466ac589740",
   "metadata": {},
   "outputs": [],
   "source": []
  }
 ],
 "metadata": {
  "kernelspec": {
   "display_name": "Python 3 (ipykernel)",
   "language": "python",
   "name": "python3"
  },
  "language_info": {
   "codemirror_mode": {
    "name": "ipython",
    "version": 3
   },
   "file_extension": ".py",
   "mimetype": "text/x-python",
   "name": "python",
   "nbconvert_exporter": "python",
   "pygments_lexer": "ipython3",
   "version": "3.11.2"
  }
 },
 "nbformat": 4,
 "nbformat_minor": 5
}
